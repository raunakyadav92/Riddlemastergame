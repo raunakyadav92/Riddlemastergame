{
  "nbformat": 4,
  "nbformat_minor": 0,
  "metadata": {
    "colab": {
      "provenance": [],
      "authorship_tag": "ABX9TyN/ahpErzTTqFqwo7APTQUs",
      "include_colab_link": true
    },
    "kernelspec": {
      "name": "python3",
      "display_name": "Python 3"
    },
    "language_info": {
      "name": "python"
    }
  },
  "cells": [
    {
      "cell_type": "markdown",
      "metadata": {
        "id": "view-in-github",
        "colab_type": "text"
      },
      "source": [
        "<a href=\"https://colab.research.google.com/github/raunakyadav92/Riddlemastergame/blob/main/riddlemastergame.ipynb\" target=\"_parent\"><img src=\"https://colab.research.google.com/assets/colab-badge.svg\" alt=\"Open In Colab\"/></a>"
      ]
    },
    {
      "cell_type": "code",
      "execution_count": null,
      "metadata": {
        "id": "indh_Iumomc0"
      },
      "outputs": [],
      "source": [
        "\n",
        "import openai\n",
        "\n",
        "openai.api_key = 'YOUR_API_KEY'\n",
        "\n",
        "def get_riddle():\n",
        "    prompt = \"Give me a tricky riddle in one sentence. Only the riddle.\"\n",
        "    response = openai.Completion.create(\n",
        "        engine=\"text-davinci-003\",\n",
        "        prompt=prompt,\n",
        "        max_tokens=50\n",
        "    )\n",
        "    return response.choices[0].text.strip()\n",
        "\n",
        "def check_answer(riddle, answer):\n",
        "    prompt = f\"Is '{answer}' the correct answer to the riddle: '{riddle}'? Answer Yes or No.\"\n",
        "    response = openai.Completion.create(\n",
        "        engine=\"text-davinci-003\",\n",
        "        prompt=prompt,\n",
        "        max_tokens=10\n",
        "    )\n",
        "    return \"yes\" in response.choices[0].text.lower()\n",
        "\n",
        "# Game Loop\n",
        "score = 0\n",
        "for i in range(5):\n",
        "    riddle = get_riddle()\n",
        "    print(f\"Riddle {i+1}: {riddle}\")\n",
        "    user_answer = input(\"Your answer: \")\n",
        "    if check_answer(riddle, user_answer):\n",
        "        print(\"✅ Correct!\")\n",
        "        score += 1\n",
        "    else:\n",
        "        print(\"❌ Wrong!\")\n",
        "\n",
        "print(f\"Game Over! Your score is {score}/5\")\n"
      ]
    }
  ]
}